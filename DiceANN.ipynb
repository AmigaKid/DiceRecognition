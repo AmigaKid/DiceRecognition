{
 "cells": [
  {
   "cell_type": "code",
   "execution_count": 1,
   "metadata": {},
   "outputs": [],
   "source": [
    "import math\n",
    "import tensorflow as tf\n",
    "from tensorflow.python.framework import ops\n",
    "import os\n",
    "import numpy as np\n",
    "from matplotlib import image\n",
    "import matplotlib.pyplot as plt"
   ]
  },
  {
   "cell_type": "code",
   "execution_count": 2,
   "metadata": {},
   "outputs": [
    {
     "data": {
      "text/plain": [
       "True"
      ]
     },
     "execution_count": 2,
     "metadata": {},
     "output_type": "execute_result"
    }
   ],
   "source": [
    "tf.test.is_gpu_available()"
   ]
  },
  {
   "cell_type": "code",
   "execution_count": 3,
   "metadata": {},
   "outputs": [],
   "source": [
    "def one_hot_encoder(labellist, nb_classes):\n",
    "    one_hot = np.zeros([len(labellist), nb_classes])\n",
    "    for i,l in enumerate(labellist):\n",
    "        one_hot[i][int(l)-1] = 1\n",
    "    return one_hot"
   ]
  },
  {
   "cell_type": "code",
   "execution_count": 4,
   "metadata": {},
   "outputs": [],
   "source": [
    "def random_mini_batches(X, Y, mini_batch_size = 64, seed = 0):\n",
    "    \"\"\"\n",
    "    Creates a list of random minibatches from (X, Y)\n",
    "    \n",
    "    Arguments:\n",
    "    X -- input data, of shape (input size, number of examples)\n",
    "    Y -- true \"label\" vector (containing 0 if cat, 1 if non-cat), of shape (1, number of examples)\n",
    "    mini_batch_size - size of the mini-batches, integer\n",
    "    seed -- this is only for the purpose of grading, so that you're \"random minibatches are the same as ours.\n",
    "    \n",
    "    Returns:\n",
    "    mini_batches -- list of synchronous (mini_batch_X, mini_batch_Y)\n",
    "    \"\"\"\n",
    "    \n",
    "    m = X.shape[1]                  # number of training examples\n",
    "    mini_batches = []\n",
    "    np.random.seed(seed)\n",
    "    \n",
    "    # Step 1: Shuffle (X, Y)\n",
    "    permutation = list(np.random.permutation(m))\n",
    "    shuffled_X = X[:, permutation]\n",
    "    shuffled_Y = Y[:, permutation].reshape((Y.shape[0],m))\n",
    "\n",
    "    # Step 2: Partition (shuffled_X, shuffled_Y). Minus the end case.\n",
    "    num_complete_minibatches = math.floor(m/mini_batch_size) # number of mini batches of size mini_batch_size in your partitionning\n",
    "    for k in range(0, num_complete_minibatches):\n",
    "        mini_batch_X = shuffled_X[:, k * mini_batch_size : k * mini_batch_size + mini_batch_size]\n",
    "        mini_batch_Y = shuffled_Y[:, k * mini_batch_size : k * mini_batch_size + mini_batch_size]\n",
    "        mini_batch = (mini_batch_X, mini_batch_Y)\n",
    "        mini_batches.append(mini_batch)\n",
    "    \n",
    "    # Handling the end case (last mini-batch < mini_batch_size)\n",
    "    if m % mini_batch_size != 0:\n",
    "        mini_batch_X = shuffled_X[:, num_complete_minibatches * mini_batch_size : m]\n",
    "        mini_batch_Y = shuffled_Y[:, num_complete_minibatches * mini_batch_size : m]\n",
    "        mini_batch = (mini_batch_X, mini_batch_Y)\n",
    "        mini_batches.append(mini_batch)\n",
    "    \n",
    "    return mini_batches"
   ]
  },
  {
   "cell_type": "code",
   "execution_count": 5,
   "metadata": {},
   "outputs": [],
   "source": [
    "ftraindir = r'C:\\Users\\dhecker\\Downloads\\dice\\train'\n",
    "ftestdir = r'C:\\Users\\dhecker\\Downloads\\dice\\valid'"
   ]
  },
  {
   "cell_type": "code",
   "execution_count": 6,
   "metadata": {},
   "outputs": [
    {
     "name": "stdout",
     "output_type": "stream",
     "text": [
      "loaded 12337 images and set 12337 labels\n"
     ]
    }
   ],
   "source": [
    "#load training data\n",
    "dirs = ['d6','d8','d10','d12','d20']\n",
    "loaded_images = list()\n",
    "labels = []\n",
    "for d in dirs:\n",
    "    files = os.listdir(os.path.join(ftraindir,d))\n",
    "    for f in files:\n",
    "        im = image.imread(os.path.join(ftraindir,d,f))\n",
    "        im = np.resize(im, (64,64,3))\n",
    "        loaded_images.append(im) #images as LIST\n",
    "        \n",
    "        #print('> loaded %s %s' % (f, im.shape))\n",
    "        \n",
    "        #set label\n",
    "        if f[0:2] == 'd4':\n",
    "            labels.append(1)\n",
    "        elif f[0:2] == 'd6':\n",
    "            labels.append(2)\n",
    "        elif f[0:2] == 'd8':\n",
    "            labels.append(3)\n",
    "        elif f[0:3] == 'd10':\n",
    "            labels.append(4)\n",
    "        elif f[0:3] == 'd12':\n",
    "            labels.append(5)\n",
    "        elif f[0:3] == 'd20':\n",
    "            labels.append(6)\n",
    "            \n",
    "X_train_orig = np.array(loaded_images)\n",
    "Y_train_orig = labels\n",
    "print('loaded %i images and set %i labels' % (X_train_orig.shape[0], len(labels)))"
   ]
  },
  {
   "cell_type": "code",
   "execution_count": 7,
   "metadata": {},
   "outputs": [
    {
     "name": "stdout",
     "output_type": "stream",
     "text": [
      "loaded 1761 images and set 1761 labels\n"
     ]
    }
   ],
   "source": [
    "#load test data\n",
    "loaded_images = list()\n",
    "labels = []\n",
    "for d in dirs:\n",
    "    files = os.listdir(os.path.join(ftestdir,d))\n",
    "    for f in files:\n",
    "        if f[0] == 'd':\n",
    "            \n",
    "            im = image.imread(os.path.join(ftestdir,d,f))\n",
    "            im = np.resize(im, (64,64,3))\n",
    "            loaded_images.append(im)\n",
    "        \n",
    "            #set label\n",
    "            if f[0:2] == 'd4':\n",
    "                labels.append(1)\n",
    "            elif f[0:2] == 'd6':\n",
    "                labels.append(2)\n",
    "            elif f[0:2] == 'd8':\n",
    "                labels.append(3)\n",
    "            elif f[0:3] == 'd10':\n",
    "                labels.append(4)\n",
    "            elif f[0:3] == 'd12':\n",
    "                labels.append(5)\n",
    "            elif f[0:3] == 'd20':\n",
    "                labels.append(6)\n",
    "            \n",
    "X_test_orig = np.array(loaded_images)\n",
    "Y_test_orig = labels\n",
    "print('loaded %i images and set %i labels' % (X_test_orig.shape[0], len(Y_test_orig)))"
   ]
  },
  {
   "cell_type": "code",
   "execution_count": 8,
   "metadata": {},
   "outputs": [],
   "source": [
    "#flatten\n",
    "X_train_flatten = X_train_orig.reshape(X_train_orig.shape[0], -1).T\n",
    "del X_train_orig\n",
    "X_test_flatten = X_test_orig.reshape(X_test_orig.shape[0], -1).T\n",
    "del X_test_orig\n",
    "#normalize\n",
    "X_train = X_train_flatten/255.\n",
    "X_test = X_test_flatten/255.\n",
    "#convert labels to one hot\n",
    "Y_train = one_hot_encoder(Y_train_orig, 6)\n",
    "Y_test = one_hot_encoder(Y_test_orig, 6)"
   ]
  },
  {
   "cell_type": "code",
   "execution_count": 9,
   "metadata": {},
   "outputs": [
    {
     "name": "stdout",
     "output_type": "stream",
     "text": [
      "number of training examples = 12337\n",
      "number of test examples = 1761\n",
      "X_train shape: (12288, 12337)\n",
      "Y_train shape: (6, 12337)\n",
      "X_test shape: (12288, 1761)\n",
      "Y_test shape: (6, 1761)\n"
     ]
    }
   ],
   "source": [
    "Y_train = Y_train.T\n",
    "Y_test = Y_test.T\n",
    "print (\"number of training examples = \" + str(X_train.shape[1]))\n",
    "print (\"number of test examples = \" + str(X_test.shape[1]))\n",
    "print (\"X_train shape: \" + str(X_train.shape))\n",
    "print (\"Y_train shape: \" + str(Y_train.shape))\n",
    "print (\"X_test shape: \" + str(X_test.shape))\n",
    "print (\"Y_test shape: \" + str(Y_test.shape))"
   ]
  },
  {
   "cell_type": "code",
   "execution_count": 10,
   "metadata": {},
   "outputs": [],
   "source": [
    "#create placeholders\n",
    "def create_placeholders(n_x, n_y):\n",
    "    X = tf.placeholder(tf.float32, shape=[n_x, None], name = 'X')\n",
    "    Y = tf.placeholder(tf.float32, shape=[n_y, None], name = 'Y')\n",
    "    \n",
    "    return X,Y"
   ]
  },
  {
   "cell_type": "code",
   "execution_count": 11,
   "metadata": {},
   "outputs": [],
   "source": [
    "X,Y = create_placeholders(12288,6)"
   ]
  },
  {
   "cell_type": "code",
   "execution_count": 12,
   "metadata": {},
   "outputs": [],
   "source": [
    "#initialize parameters\n",
    "def initialize_parameters():\n",
    "    tf.set_random_seed(42)\n",
    "    \n",
    "    W1 = tf.get_variable('W1', [192,12288], initializer=tf.contrib.layers.xavier_initializer(seed = 42))\n",
    "    b1 = tf.get_variable('b1', [192,1], initializer=tf.zeros_initializer())\n",
    "    W2 = tf.get_variable('W2', [36,192], initializer=tf.contrib.layers.xavier_initializer(seed = 42))\n",
    "    b2 = tf.get_variable('b2', [36,1], initializer=tf.zeros_initializer())\n",
    "    W3 = tf.get_variable('W3', [6,36], initializer=tf.contrib.layers.xavier_initializer(seed = 42))\n",
    "    b3 = tf.get_variable('b3', [6,1], initializer=tf.zeros_initializer())\n",
    "    \n",
    "    parameters = {'W1': W1,\n",
    "                  'b1': b1,\n",
    "                  'W2': W2,\n",
    "                  'b2': b2,\n",
    "                  'W3': W3,\n",
    "                  'b3': b3}\n",
    "    \n",
    "    return parameters"
   ]
  },
  {
   "cell_type": "code",
   "execution_count": 13,
   "metadata": {},
   "outputs": [],
   "source": [
    "#forward propagation\n",
    "def forward_propagation(X, parameters):\n",
    "    W1 = parameters['W1']\n",
    "    b1 = parameters['b1']\n",
    "    W2 = parameters['W2']\n",
    "    b2 = parameters['b2']\n",
    "    W3 = parameters['W3']\n",
    "    b3 = parameters['b3']\n",
    "    \n",
    "    Z1 = tf.add(tf.matmul(W1,X), b1)\n",
    "    A1 = tf.nn.relu(Z1)\n",
    "    Z2 = tf.add(tf.matmul(W2,A1), b2)\n",
    "    A2 = tf.nn.relu(Z2)\n",
    "    Z3 = tf.add(tf.matmul(W3,A2), b3)\n",
    "    \n",
    "    return Z3"
   ]
  },
  {
   "cell_type": "code",
   "execution_count": 14,
   "metadata": {},
   "outputs": [],
   "source": [
    "#compute cost\n",
    "def compute_cost(Z3, Y):\n",
    "    logits = tf.transpose(Z3)\n",
    "    labels = tf.transpose(Y)\n",
    "\n",
    "    cost = tf.reduce_mean(tf.nn.softmax_cross_entropy_with_logits(logits=logits, labels=labels))\n",
    "    \n",
    "    return cost"
   ]
  },
  {
   "cell_type": "code",
   "execution_count": 15,
   "metadata": {},
   "outputs": [],
   "source": [
    "#compute cost\n",
    "def compute_cost_with_l2_reg(Z3, Y, parameters, beta=0.001):\n",
    "    logits = tf.transpose(Z3)\n",
    "    labels = tf.transpose(Y)\n",
    "    \n",
    "    cost = tf.reduce_mean(tf.nn.softmax_cross_entropy_with_logits(logits=logits, labels=labels))\n",
    "    \n",
    "    W3 = parameters['W3']\n",
    "    W2 = parameters['W2']\n",
    "    W1 = parameters['W1']\n",
    "    reg3 = tf.nn.l2_loss(W3)\n",
    "    reg2 = tf.nn.l2_loss(W2)\n",
    "    reg1 = tf.nn.l2_loss(W1)\n",
    "    \n",
    "    cost = tf.reduce_mean(cost + beta * reg1 + beta * reg2 + beta * reg3)\n",
    "    \n",
    "    return cost"
   ]
  },
  {
   "cell_type": "code",
   "execution_count": 223,
   "metadata": {},
   "outputs": [
    {
     "name": "stdout",
     "output_type": "stream",
     "text": [
      "Z3 = Tensor(\"Add_2:0\", shape=(6, ?), dtype=float32)\n",
      "cost = Tensor(\"Mean:0\", shape=(), dtype=float32)\n"
     ]
    }
   ],
   "source": [
    "tf.reset_default_graph()\n",
    "\n",
    "with tf.Session() as session:\n",
    "    X,Y = create_placeholders(12288,6)\n",
    "    parameters = initialize_parameters()\n",
    "    Z3 = forward_propagation(X, parameters)\n",
    "    cost = compute_cost(Z3, Y)\n",
    "    print('Z3 = ' + str(Z3))\n",
    "    print('cost = ' + str(cost))"
   ]
  },
  {
   "cell_type": "code",
   "execution_count": 27,
   "metadata": {},
   "outputs": [],
   "source": [
    "def model(X_train, Y_train, X_test, Y_test, learning_rate = 0.01,\n",
    "          num_epochs = 1500, minibatch_size = 32, print_cost = True):\n",
    "    ops.reset_default_graph()\n",
    "    tf.set_random_seed(42)\n",
    "    seed = 3\n",
    "    (n_x, m) = X_train.shape\n",
    "    n_y = Y_train.shape[0]\n",
    "    costs = []\n",
    "    \n",
    "    X,Y = create_placeholders(n_x, n_y)\n",
    "    parameters = initialize_parameters()\n",
    "    Z3 = forward_propagation(X, parameters)\n",
    "    cost = compute_cost(Z3,Y)\n",
    "    #cost = compute_cost_with_l2_reg(Z3,Y,parameters,0.001)\n",
    "    \n",
    "    optimizer = tf.train.AdamOptimizer(learning_rate=learning_rate).minimize(cost)\n",
    "    \n",
    "    init = tf.global_variables_initializer()\n",
    "    \n",
    "    with tf.Session(config=tf.ConfigProto(log_device_placement=True)) as session:\n",
    "        session.run(init)\n",
    "        \n",
    "        for epoch in range(num_epochs):\n",
    "            epoch_cost = 0.\n",
    "            num_minibatches = int(m / minibatch_size)\n",
    "            seed = seed + 1\n",
    "            minibatches = random_mini_batches(X_train, Y_train, minibatch_size, seed)\n",
    "            \n",
    "            for minibatch in minibatches:\n",
    "                (minibatch_X, minibatch_Y) = minibatch\n",
    "                \n",
    "                _, minibatch_cost = session.run([optimizer, cost], feed_dict={X: minibatch_X, Y:minibatch_Y})\n",
    "                \n",
    "                epoch_cost += minibatch_cost / num_minibatches\n",
    "                \n",
    "            if print_cost == True and epoch % 100 == 0:\n",
    "                print('cost after epoch %i: %f' % (epoch, epoch_cost))\n",
    "            \n",
    "            if print_cost == True and epoch % 5 == 0:\n",
    "                costs.append(epoch_cost)\n",
    "        \n",
    "        plt.plot(np.squeeze(costs))\n",
    "        plt.ylabel('cost')\n",
    "        plt.xlabel('iterations (per fives)')\n",
    "        plt.title('learning rate =' + str(learning_rate))\n",
    "        plt.show()\n",
    "        \n",
    "        parameters = session.run(parameters)\n",
    "        \n",
    "        correct_prediction = tf.equal(tf.argmax(Z3), tf.argmax(Y))\n",
    "        \n",
    "        accuracy = tf.reduce_mean(tf.cast(correct_prediction, \"float\"))\n",
    "        \n",
    "        print('Train Accuracy:', accuracy.eval({X: X_train, Y: Y_train}))\n",
    "        print('Test Accuracy:', accuracy.eval({X: X_test, Y: Y_test}))\n",
    "        \n",
    "        return parameters"
   ]
  },
  {
   "cell_type": "code",
   "execution_count": 30,
   "metadata": {},
   "outputs": [
    {
     "name": "stdout",
     "output_type": "stream",
     "text": [
      "cost after epoch 0: 2.667590\n",
      "cost after epoch 100: 1.830252\n",
      "cost after epoch 200: 1.704259\n",
      "cost after epoch 300: 1.617368\n",
      "cost after epoch 400: 1.544502\n",
      "cost after epoch 500: 1.468823\n",
      "cost after epoch 600: 1.417658\n",
      "cost after epoch 700: 1.375701\n",
      "cost after epoch 800: 1.336610\n",
      "cost after epoch 900: 1.321862\n",
      "cost after epoch 1000: 1.277343\n",
      "cost after epoch 1100: 1.276448\n",
      "cost after epoch 1200: 1.242390\n",
      "cost after epoch 1300: 1.216683\n",
      "cost after epoch 1400: 1.213202\n"
     ]
    },
    {
     "data": {
      "image/png": "[encoded data removed]",
      "text/plain": [
       "<Figure size 432x288 with 1 Axes>"
      ]
     },
     "metadata": {
      "needs_background": "light"
     },
     "output_type": "display_data"
    },
    {
     "name": "stdout",
     "output_type": "stream",
     "text": [
      "Train Accuracy: 0.65088755\n",
      "Test Accuracy: 0.6382737\n"
     ]
    }
   ],
   "source": [
    "parameters = model(X_train, Y_train, X_test, Y_test, learning_rate=0.0001, num_epochs=1500, minibatch_size=3085)\n",
    "#1500 Epochs\n",
    "#learning rate 0.001\n",
    "#no reg\n",
    "#größeres Netz [192,36,6]"
   ]
  },
  {
   "cell_type": "code",
   "execution_count": 29,
   "metadata": {},
   "outputs": [
    {
     "name": "stdout",
     "output_type": "stream",
     "text": [
      "cost after epoch 0: 12.326263\n",
      "cost after epoch 100: 1.890269\n",
      "cost after epoch 200: 1.851527\n",
      "cost after epoch 300: 1.829688\n",
      "cost after epoch 400: 1.768923\n",
      "cost after epoch 500: 1.710121\n",
      "cost after epoch 600: 1.621507\n",
      "cost after epoch 700: 1.540887\n",
      "cost after epoch 800: 1.519342\n",
      "cost after epoch 900: 1.381012\n",
      "cost after epoch 1000: 1.311724\n",
      "cost after epoch 1100: 1.267803\n",
      "cost after epoch 1200: 1.225222\n",
      "cost after epoch 1300: 1.195196\n",
      "cost after epoch 1400: 1.168836\n"
     ]
    },
    {
     "data": {
      "image/png": "[encoded data removed]",
      "text/plain": [
       "<Figure size 432x288 with 1 Axes>"
      ]
     },
     "metadata": {
      "needs_background": "light"
     },
     "output_type": "display_data"
    },
    {
     "name": "stdout",
     "output_type": "stream",
     "text": [
      "Train Accuracy: 0.65485936\n",
      "Test Accuracy: 0.6394094\n"
     ]
    }
   ],
   "source": [
    "parameters = model(X_train, Y_train, X_test, Y_test, learning_rate=0.001, num_epochs=1500, minibatch_size=3085)\n",
    "#1500 Epochs\n",
    "#learning rate 0.001\n",
    "#no reg\n",
    "#größeres Netz [192,36,6]"
   ]
  },
  {
   "cell_type": "code",
   "execution_count": 28,
   "metadata": {},
   "outputs": [
    {
     "name": "stdout",
     "output_type": "stream",
     "text": [
      "cost after epoch 0: 1.875749\n",
      "cost after epoch 100: 1.627576\n",
      "cost after epoch 200: 1.568643\n",
      "cost after epoch 300: 1.552275\n",
      "cost after epoch 400: 1.544100\n",
      "cost after epoch 500: 1.539295\n",
      "cost after epoch 600: 1.536210\n",
      "cost after epoch 700: 1.534099\n",
      "cost after epoch 800: 1.532585\n",
      "cost after epoch 900: 1.531457\n",
      "cost after epoch 1000: 1.530593\n",
      "cost after epoch 1100: 1.529914\n",
      "cost after epoch 1200: 1.529370\n",
      "cost after epoch 1300: 1.528927\n",
      "cost after epoch 1400: 1.528560\n"
     ]
    },
    {
     "data": {
      "image/png": "[encoded data removed]",
      "text/plain": [
       "<Figure size 432x288 with 1 Axes>"
      ]
     },
     "metadata": {
      "needs_background": "light"
     },
     "output_type": "display_data"
    },
    {
     "name": "stdout",
     "output_type": "stream",
     "text": [
      "Train Accuracy: 0.32795656\n",
      "Test Accuracy: 0.3282226\n"
     ]
    }
   ],
   "source": [
    "parameters = model(X_train, Y_train, X_test, Y_test, num_epochs=1500, minibatch_size=12337)\n",
    "#1500 Epochs\n",
    "#learning rate 0.01\n",
    "#no reg\n",
    "#größeres Netz [192,36,6]"
   ]
  },
  {
   "cell_type": "code",
   "execution_count": 285,
   "metadata": {},
   "outputs": [
    {
     "name": "stdout",
     "output_type": "stream",
     "text": [
      "cost after epoch 0: 1.550447\n",
      "cost after epoch 100: 0.945095\n",
      "cost after epoch 200: 0.805728\n",
      "cost after epoch 300: 0.658550\n",
      "cost after epoch 400: 0.600988\n",
      "cost after epoch 500: 0.529342\n",
      "cost after epoch 600: 0.493285\n",
      "cost after epoch 700: 0.463908\n",
      "cost after epoch 800: 0.444640\n",
      "cost after epoch 900: 0.426148\n",
      "cost after epoch 1000: 0.425389\n",
      "cost after epoch 1100: 0.396989\n",
      "cost after epoch 1200: 0.390841\n",
      "cost after epoch 1300: 0.374346\n",
      "cost after epoch 1400: 0.368151\n",
      "cost after epoch 1500: 0.367320\n",
      "cost after epoch 1600: 0.338222\n",
      "cost after epoch 1700: 0.348841\n",
      "cost after epoch 1800: 0.340408\n",
      "cost after epoch 1900: 0.315061\n",
      "cost after epoch 2000: 0.340020\n",
      "cost after epoch 2100: 0.309464\n",
      "cost after epoch 2200: 0.303752\n",
      "cost after epoch 2300: 0.281604\n",
      "cost after epoch 2400: 0.277047\n",
      "cost after epoch 2500: 0.289599\n",
      "cost after epoch 2600: 0.287982\n",
      "cost after epoch 2700: 0.284418\n",
      "cost after epoch 2800: 0.276083\n",
      "cost after epoch 2900: 0.273663\n",
      "cost after epoch 3000: 0.262541\n",
      "cost after epoch 3100: 0.274691\n",
      "cost after epoch 3200: 0.250542\n",
      "cost after epoch 3300: 0.262933\n",
      "cost after epoch 3400: 0.266062\n",
      "cost after epoch 3500: 0.249576\n",
      "cost after epoch 3600: 0.257744\n",
      "cost after epoch 3700: 0.248057\n",
      "cost after epoch 3800: 0.248273\n",
      "cost after epoch 3900: 0.237016\n",
      "cost after epoch 4000: 0.240498\n",
      "cost after epoch 4100: 0.225617\n",
      "cost after epoch 4200: 0.266751\n",
      "cost after epoch 4300: 0.231828\n",
      "cost after epoch 4400: 0.228131\n",
      "cost after epoch 4500: 0.213030\n",
      "cost after epoch 4600: 0.242979\n",
      "cost after epoch 4700: 0.217986\n",
      "cost after epoch 4800: 0.242914\n",
      "cost after epoch 4900: 0.215643\n",
      "cost after epoch 5000: 0.219993\n",
      "cost after epoch 5100: 0.212249\n",
      "cost after epoch 5200: 0.208142\n",
      "cost after epoch 5300: 0.206615\n",
      "cost after epoch 5400: 0.211525\n",
      "cost after epoch 5500: 0.200407\n",
      "cost after epoch 5600: 0.202540\n",
      "cost after epoch 5700: 0.210479\n",
      "cost after epoch 5800: 0.242805\n",
      "cost after epoch 5900: 0.193101\n",
      "cost after epoch 6000: 0.206891\n",
      "cost after epoch 6100: 0.207218\n",
      "cost after epoch 6200: 0.190539\n",
      "cost after epoch 6300: 0.200130\n",
      "cost after epoch 6400: 0.190436\n",
      "cost after epoch 6500: 0.186181\n",
      "cost after epoch 6600: 0.182553\n",
      "cost after epoch 6700: 0.184874\n",
      "cost after epoch 6800: 0.183982\n",
      "cost after epoch 6900: 0.182613\n",
      "cost after epoch 7000: 0.177951\n",
      "cost after epoch 7100: 0.171931\n",
      "cost after epoch 7200: 0.185139\n",
      "cost after epoch 7300: 0.171731\n",
      "cost after epoch 7400: 0.170764\n",
      "cost after epoch 7500: 0.165723\n",
      "cost after epoch 7600: 0.188701\n",
      "cost after epoch 7700: 0.179654\n",
      "cost after epoch 7800: 0.180135\n",
      "cost after epoch 7900: 0.167675\n",
      "cost after epoch 8000: 0.186743\n",
      "cost after epoch 8100: 0.181839\n",
      "cost after epoch 8200: 0.153186\n",
      "cost after epoch 8300: 0.176749\n",
      "cost after epoch 8400: 0.158379\n",
      "cost after epoch 8500: 0.178461\n",
      "cost after epoch 8600: 0.157688\n",
      "cost after epoch 8700: 0.154740\n",
      "cost after epoch 8800: 0.155604\n",
      "cost after epoch 8900: 0.153783\n"
     ]
    },
    {
     "data": {
      "image/png": "[encoded data removed]",
      "text/plain": [
       "<Figure size 432x288 with 1 Axes>"
      ]
     },
     "metadata": {
      "needs_background": "light"
     },
     "output_type": "display_data"
    },
    {
     "name": "stdout",
     "output_type": "stream",
     "text": [
      "Train Accuracy: 0.94634026\n",
      "Test Accuracy: 0.86428165\n"
     ]
    }
   ],
   "source": [
    "parameters = model(X_train, Y_train, X_test, Y_test, minibatch_size=64)\n",
    "#9000 Epochs\n",
    "#ohne reg [192,36,6]\n",
    "#größeres Netz"
   ]
  },
  {
   "cell_type": "code",
   "execution_count": 281,
   "metadata": {},
   "outputs": [
    {
     "name": "stdout",
     "output_type": "stream",
     "text": [
      "cost after epoch 0: 1.550447\n",
      "cost after epoch 100: 0.945095\n",
      "cost after epoch 200: 0.805728\n",
      "cost after epoch 300: 0.658550\n",
      "cost after epoch 400: 0.600988\n",
      "cost after epoch 500: 0.529342\n",
      "cost after epoch 600: 0.493285\n",
      "cost after epoch 700: 0.463908\n",
      "cost after epoch 800: 0.444640\n",
      "cost after epoch 900: 0.426148\n",
      "cost after epoch 1000: 0.425389\n",
      "cost after epoch 1100: 0.396989\n",
      "cost after epoch 1200: 0.390841\n",
      "cost after epoch 1300: 0.374346\n",
      "cost after epoch 1400: 0.368151\n"
     ]
    },
    {
     "data": {
      "image/png": "[encoded data removed]",
      "text/plain": [
       "<Figure size 432x288 with 1 Axes>"
      ]
     },
     "metadata": {
      "needs_background": "light"
     },
     "output_type": "display_data"
    },
    {
     "name": "stdout",
     "output_type": "stream",
     "text": [
      "Train Accuracy: 0.8555564\n",
      "Test Accuracy: 0.80579215\n"
     ]
    }
   ],
   "source": [
    "parameters = model(X_train, Y_train, X_test, Y_test, minibatch_size=64)\n",
    "#1500 Epochs\n",
    "#ohne reg [192,36,6]\n",
    "#größeres Netz"
   ]
  },
  {
   "cell_type": "code",
   "execution_count": 276,
   "metadata": {},
   "outputs": [
    {
     "name": "stdout",
     "output_type": "stream",
     "text": [
      "cost after epoch 0: 2.441722\n",
      "cost after epoch 100: 1.312130\n",
      "cost after epoch 200: 1.225449\n",
      "cost after epoch 300: 1.170698\n",
      "cost after epoch 400: 1.158656\n",
      "cost after epoch 500: 1.113091\n",
      "cost after epoch 600: 1.098160\n",
      "cost after epoch 700: 1.101883\n",
      "cost after epoch 800: 1.085199\n",
      "cost after epoch 900: 1.082908\n",
      "cost after epoch 1000: 1.050980\n",
      "cost after epoch 1100: 1.044125\n",
      "cost after epoch 1200: 1.046966\n",
      "cost after epoch 1300: 1.033045\n",
      "cost after epoch 1400: 1.031124\n",
      "cost after epoch 1500: 1.032798\n",
      "cost after epoch 1600: 1.028355\n",
      "cost after epoch 1700: 1.022605\n",
      "cost after epoch 1800: 1.013703\n",
      "cost after epoch 1900: 1.005484\n",
      "cost after epoch 2000: 1.023363\n",
      "cost after epoch 2100: 1.015469\n",
      "cost after epoch 2200: 1.006194\n",
      "cost after epoch 2300: 0.994929\n",
      "cost after epoch 2400: 1.006846\n",
      "cost after epoch 2500: 1.010232\n",
      "cost after epoch 2600: 1.016191\n",
      "cost after epoch 2700: 1.002007\n",
      "cost after epoch 2800: 0.994372\n",
      "cost after epoch 2900: 0.998236\n",
      "cost after epoch 3000: 0.994887\n",
      "cost after epoch 3100: 0.992157\n",
      "cost after epoch 3200: 0.996017\n",
      "cost after epoch 3300: 0.987065\n",
      "cost after epoch 3400: 0.989227\n",
      "cost after epoch 3500: 0.979090\n",
      "cost after epoch 3600: 0.989993\n",
      "cost after epoch 3700: 0.981436\n",
      "cost after epoch 3800: 0.975290\n",
      "cost after epoch 3900: 0.987018\n",
      "cost after epoch 4000: 0.979617\n",
      "cost after epoch 4100: 0.977243\n",
      "cost after epoch 4200: 0.981742\n",
      "cost after epoch 4300: 0.980231\n",
      "cost after epoch 4400: 0.978063\n",
      "cost after epoch 4500: 0.989706\n",
      "cost after epoch 4600: 0.979878\n",
      "cost after epoch 4700: 0.971201\n",
      "cost after epoch 4800: 0.984776\n",
      "cost after epoch 4900: 0.971217\n",
      "cost after epoch 5000: 0.969846\n",
      "cost after epoch 5100: 0.979171\n",
      "cost after epoch 5200: 0.976023\n",
      "cost after epoch 5300: 0.964413\n",
      "cost after epoch 5400: 0.963918\n",
      "cost after epoch 5500: 0.957121\n",
      "cost after epoch 5600: 0.962687\n",
      "cost after epoch 5700: 0.973591\n",
      "cost after epoch 5800: 0.976408\n",
      "cost after epoch 5900: 0.966666\n",
      "cost after epoch 6000: 0.969893\n",
      "cost after epoch 6100: 0.957015\n",
      "cost after epoch 6200: 0.959145\n",
      "cost after epoch 6300: 0.969131\n",
      "cost after epoch 6400: 0.972965\n",
      "cost after epoch 6500: 0.958408\n",
      "cost after epoch 6600: 0.958412\n",
      "cost after epoch 6700: 0.959175\n",
      "cost after epoch 6800: 0.963637\n",
      "cost after epoch 6900: 0.949282\n",
      "cost after epoch 7000: 0.950498\n",
      "cost after epoch 7100: 0.967480\n",
      "cost after epoch 7200: 0.947251\n",
      "cost after epoch 7300: 0.950508\n",
      "cost after epoch 7400: 0.953049\n",
      "cost after epoch 7500: 0.949058\n",
      "cost after epoch 7600: 0.935484\n",
      "cost after epoch 7700: 0.950679\n",
      "cost after epoch 7800: 0.958303\n",
      "cost after epoch 7900: 0.938465\n",
      "cost after epoch 8000: 0.958193\n",
      "cost after epoch 8100: 0.946454\n",
      "cost after epoch 8200: 0.941795\n",
      "cost after epoch 8300: 0.949124\n",
      "cost after epoch 8400: 0.936367\n",
      "cost after epoch 8500: 0.948964\n",
      "cost after epoch 8600: 0.953627\n",
      "cost after epoch 8700: 0.932142\n",
      "cost after epoch 8800: 0.930299\n",
      "cost after epoch 8900: 0.935583\n"
     ]
    },
    {
     "data": {
      "image/png": "[encoded data removed]",
      "text/plain": [
       "<Figure size 432x288 with 1 Axes>"
      ]
     },
     "metadata": {
      "needs_background": "light"
     },
     "output_type": "display_data"
    },
    {
     "name": "stdout",
     "output_type": "stream",
     "text": [
      "Train Accuracy: 0.6897139\n",
      "Test Accuracy: 0.67404884\n"
     ]
    }
   ],
   "source": [
    "parameters = model(X_train, Y_train, X_test, Y_test, minibatch_size=64)\n",
    "#9000 Epochs\n",
    "#L2_regularization, beta=0.01"
   ]
  },
  {
   "cell_type": "code",
   "execution_count": 254,
   "metadata": {},
   "outputs": [
    {
     "name": "stdout",
     "output_type": "stream",
     "text": [
      "cost after epoch 0: 1.540146\n",
      "cost after epoch 100: 0.990687\n",
      "cost after epoch 200: 0.866600\n",
      "cost after epoch 300: 0.786234\n",
      "cost after epoch 400: 0.731951\n",
      "cost after epoch 500: 0.650518\n",
      "cost after epoch 600: 0.598913\n",
      "cost after epoch 700: 0.564516\n",
      "cost after epoch 800: 0.523987\n",
      "cost after epoch 900: 0.497144\n",
      "cost after epoch 1000: 0.479202\n",
      "cost after epoch 1100: 0.459562\n",
      "cost after epoch 1200: 0.447018\n",
      "cost after epoch 1300: 0.426429\n",
      "cost after epoch 1400: 0.411369\n",
      "cost after epoch 1500: 0.418051\n",
      "cost after epoch 1600: 0.381162\n",
      "cost after epoch 1700: 0.389790\n",
      "cost after epoch 1800: 0.370009\n",
      "cost after epoch 1900: 0.373850\n",
      "cost after epoch 2000: 0.379625\n",
      "cost after epoch 2100: 0.345282\n",
      "cost after epoch 2200: 0.349205\n",
      "cost after epoch 2300: 0.328704\n",
      "cost after epoch 2400: 0.324764\n",
      "cost after epoch 2500: 0.325956\n",
      "cost after epoch 2600: 0.320499\n",
      "cost after epoch 2700: 0.326405\n",
      "cost after epoch 2800: 0.320258\n",
      "cost after epoch 2900: 0.315564\n",
      "cost after epoch 3000: 0.313474\n",
      "cost after epoch 3100: 0.307333\n",
      "cost after epoch 3200: 0.294039\n",
      "cost after epoch 3300: 0.287589\n",
      "cost after epoch 3400: 0.289325\n",
      "cost after epoch 3500: 0.288182\n",
      "cost after epoch 3600: 0.268166\n",
      "cost after epoch 3700: 0.280796\n",
      "cost after epoch 3800: 0.265826\n",
      "cost after epoch 3900: 0.275797\n",
      "cost after epoch 4000: 0.260814\n",
      "cost after epoch 4100: 0.250895\n",
      "cost after epoch 4200: 0.262291\n",
      "cost after epoch 4300: 0.264138\n",
      "cost after epoch 4400: 0.262148\n",
      "cost after epoch 4500: 0.251264\n",
      "cost after epoch 4600: 0.255713\n",
      "cost after epoch 4700: 0.227925\n",
      "cost after epoch 4800: 0.251594\n",
      "cost after epoch 4900: 0.233435\n",
      "cost after epoch 5000: 0.219558\n",
      "cost after epoch 5100: 0.239541\n",
      "cost after epoch 5200: 0.225791\n",
      "cost after epoch 5300: 0.231189\n",
      "cost after epoch 5400: 0.219601\n",
      "cost after epoch 5500: 0.220135\n",
      "cost after epoch 5600: 0.237435\n",
      "cost after epoch 5700: 0.226019\n",
      "cost after epoch 5800: 0.230757\n",
      "cost after epoch 5900: 0.215474\n",
      "cost after epoch 6000: 0.221040\n",
      "cost after epoch 6100: 0.205831\n",
      "cost after epoch 6200: 0.214882\n",
      "cost after epoch 6300: 0.202184\n",
      "cost after epoch 6400: 0.212252\n",
      "cost after epoch 6500: 0.234712\n",
      "cost after epoch 6600: 0.218276\n",
      "cost after epoch 6700: 0.203576\n",
      "cost after epoch 6800: 0.210254\n",
      "cost after epoch 6900: 0.186790\n",
      "cost after epoch 7000: 0.189278\n",
      "cost after epoch 7100: 0.209019\n",
      "cost after epoch 7200: 0.200643\n",
      "cost after epoch 7300: 0.211093\n",
      "cost after epoch 7400: 0.194502\n",
      "cost after epoch 7500: 0.188762\n",
      "cost after epoch 7600: 0.185214\n",
      "cost after epoch 7700: 0.187896\n",
      "cost after epoch 7800: 0.191803\n",
      "cost after epoch 7900: 0.183414\n",
      "cost after epoch 8000: 0.212637\n",
      "cost after epoch 8100: 0.226422\n",
      "cost after epoch 8200: 0.178173\n",
      "cost after epoch 8300: 0.205707\n",
      "cost after epoch 8400: 0.169542\n",
      "cost after epoch 8500: 0.194724\n",
      "cost after epoch 8600: 0.189241\n",
      "cost after epoch 8700: 0.181432\n",
      "cost after epoch 8800: 0.167029\n",
      "cost after epoch 8900: 0.198613\n"
     ]
    },
    {
     "data": {
      "image/png": "[encoded data removed]",
      "text/plain": [
       "<Figure size 432x288 with 1 Axes>"
      ]
     },
     "metadata": {
      "needs_background": "light"
     },
     "output_type": "display_data"
    },
    {
     "name": "stdout",
     "output_type": "stream",
     "text": [
      "Train Accuracy: 0.93280375\n",
      "Test Accuracy: 0.8557638\n"
     ]
    }
   ],
   "source": [
    "parameters = model(X_train, Y_train, X_test, Y_test, minibatch_size=64)\n",
    "#9000 Epochs"
   ]
  },
  {
   "cell_type": "code",
   "execution_count": 269,
   "metadata": {},
   "outputs": [
    {
     "name": "stdout",
     "output_type": "stream",
     "text": [
      "cost after epoch 0: 1.540069\n",
      "cost after epoch 100: 1.032328\n",
      "cost after epoch 200: 0.894697\n",
      "cost after epoch 300: 0.798220\n",
      "cost after epoch 400: 0.735206\n",
      "cost after epoch 500: 0.683162\n",
      "cost after epoch 600: 0.654518\n",
      "cost after epoch 700: 0.617622\n",
      "cost after epoch 800: 0.584967\n",
      "cost after epoch 900: 0.559017\n",
      "cost after epoch 1000: 0.543884\n",
      "cost after epoch 1100: 0.516826\n",
      "cost after epoch 1200: 0.502889\n",
      "cost after epoch 1300: 0.492385\n",
      "cost after epoch 1400: 0.489167\n"
     ]
    },
    {
     "data": {
      "image/png": "[encoded data removed]",
      "text/plain": [
       "<Figure size 432x288 with 1 Axes>"
      ]
     },
     "metadata": {
      "needs_background": "light"
     },
     "output_type": "display_data"
    },
    {
     "name": "stdout",
     "output_type": "stream",
     "text": [
      "Train Accuracy: 0.81429845\n",
      "Test Accuracy: 0.7569563\n"
     ]
    }
   ],
   "source": [
    "parameters = model(X_train, Y_train, X_test, Y_test, minibatch_size=64)\n",
    "#1500 Epochs\n",
    "#l2_regularization"
   ]
  },
  {
   "cell_type": "code",
   "execution_count": null,
   "metadata": {},
   "outputs": [],
   "source": []
  }
 ],
 "metadata": {
  "kernelspec": {
   "display_name": "Python 3",
   "language": "python",
   "name": "python3"
  },
  "language_info": {
   "codemirror_mode": {
    "name": "ipython",
    "version": 3
   },
   "file_extension": ".py",
   "mimetype": "text/x-python",
   "name": "python",
   "nbconvert_exporter": "python",
   "pygments_lexer": "ipython3",
   "version": "3.7.1"
  }
 },
 "nbformat": 4,
 "nbformat_minor": 2
}
